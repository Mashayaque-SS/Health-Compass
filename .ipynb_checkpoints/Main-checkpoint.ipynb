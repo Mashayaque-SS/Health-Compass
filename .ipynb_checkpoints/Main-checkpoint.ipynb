{
 "cells": [
  {
   "cell_type": "code",
   "execution_count": 1,
   "id": "d58167f7-ca5f-42b0-9fa9-aaf5af86ee37",
   "metadata": {},
   "outputs": [],
   "source": [
    "from matplotlib import pyplot as plt\n",
    "import pandas as pd\n",
    "from sklearn.preprocessing import LabelEncoder\n",
    "from sklearn.model_selection import train_test_split\n",
    "from sklearn.ensemble import RandomForestRegressor\n",
    "from sklearn.metrics import r2_score\n",
    "import pickle as pkl\n",
    "import seaborn as sns\n",
    "import numpy as np"
   ]
  },
  {
   "cell_type": "code",
   "execution_count": 2,
   "id": "5e21d2cf-4f5c-42e0-9553-5a168540394d",
   "metadata": {},
   "outputs": [],
   "source": [
    "rfc = RandomForestRegressor()"
   ]
  },
  {
   "cell_type": "code",
   "execution_count": 3,
   "id": "16e0fa1a-89d4-4d9a-9301-c6f942ece51c",
   "metadata": {},
   "outputs": [],
   "source": [
    "data = pd.read_csv('train.csv')"
   ]
  },
  {
   "cell_type": "code",
   "execution_count": 4,
   "id": "74babedb-1057-4071-8f8f-37611894ad54",
   "metadata": {},
   "outputs": [],
   "source": [
    "le = LabelEncoder()\n",
    "data['Location'] = le.fit_transform(data['Location'])\n",
    "data['Price'] = np.log(data['Price'])"
   ]
  },
  {
   "cell_type": "code",
   "execution_count": 6,
   "id": "b491055d-43a3-43dc-9b2c-8de9bbef5ab0",
   "metadata": {},
   "outputs": [],
   "source": [
    "x = data.drop([\"id\",\"Price\",'Gymnasium', 'Indoor Games','Jogging Track','Clubhouse', \"Maintenance Staff\",\"24x7 Security\", \"Children's Play Area\", \"Intercom\",'Gas Connection', \"Landscaped Gardens\"], axis =1)\n",
    "y = data['Price']"
   ]
  },
  {
   "cell_type": "code",
   "execution_count": 7,
   "id": "817a3174-0ca0-4364-9c9e-8608639c7727",
   "metadata": {},
   "outputs": [],
   "source": [
    "q1 = x['Area'].quantile(0.25)\n",
    "q3 = x['Area'].quantile(0.75)"
   ]
  },
  {
   "cell_type": "code",
   "execution_count": 8,
   "id": "b24646b7-df96-4007-85b7-0f5f8baec2c9",
   "metadata": {},
   "outputs": [],
   "source": [
    "iqr = q3-q1"
   ]
  },
  {
   "cell_type": "code",
   "execution_count": 9,
   "id": "129aa9c7-5a3a-4992-ac6c-39b54914ce33",
   "metadata": {},
   "outputs": [],
   "source": [
    "u = q3 + 1.5*iqr\n",
    "l = q1 - 1.5*iqr"
   ]
  },
  {
   "cell_type": "code",
   "execution_count": 10,
   "id": "9c6597dc-78f5-41d6-a82c-dff7cfcfae88",
   "metadata": {},
   "outputs": [],
   "source": [
    "out1 = x[x['Area'] < l].values\n",
    "out2 = x[x['Area'] > u].values"
   ]
  },
  {
   "cell_type": "code",
   "execution_count": 11,
   "id": "9be770b8-831e-4538-8e0a-1b3b92d49170",
   "metadata": {},
   "outputs": [
    {
     "name": "stderr",
     "output_type": "stream",
     "text": [
      "C:\\Users\\Anita Rawat\\AppData\\Local\\Temp\\ipykernel_15924\\1657277492.py:1: FutureWarning: A value is trying to be set on a copy of a DataFrame or Series through chained assignment using an inplace method.\n",
      "The behavior will change in pandas 3.0. This inplace method will never work because the intermediate object on which we are setting values always behaves as a copy.\n",
      "\n",
      "For example, when doing 'df[col].method(value, inplace=True)', try using 'df.method({col: value}, inplace=True)' or df[col] = df[col].method(value) instead, to perform the operation inplace on the original object.\n",
      "\n",
      "\n",
      "  x['Area'].replace(out1,l,inplace = True)\n",
      "C:\\Users\\Anita Rawat\\AppData\\Local\\Temp\\ipykernel_15924\\1657277492.py:2: FutureWarning: A value is trying to be set on a copy of a DataFrame or Series through chained assignment using an inplace method.\n",
      "The behavior will change in pandas 3.0. This inplace method will never work because the intermediate object on which we are setting values always behaves as a copy.\n",
      "\n",
      "For example, when doing 'df[col].method(value, inplace=True)', try using 'df.method({col: value}, inplace=True)' or df[col] = df[col].method(value) instead, to perform the operation inplace on the original object.\n",
      "\n",
      "\n",
      "  x['Area'].replace(out2,u,inplace = True)\n"
     ]
    }
   ],
   "source": [
    "x['Area'].replace(out1,l,inplace = True)\n",
    "x['Area'].replace(out2,u,inplace = True)\n"
   ]
  },
  {
   "cell_type": "code",
   "execution_count": 12,
   "id": "799bc943-f536-4fde-bbb9-b9d9c19dd815",
   "metadata": {},
   "outputs": [],
   "source": [
    "q1 = y.quantile(0.25)\n",
    "q3 = y.quantile(0.75)"
   ]
  },
  {
   "cell_type": "code",
   "execution_count": 13,
   "id": "f6d9cdd9-fdbf-4f90-a9b1-d5093ffb38ae",
   "metadata": {},
   "outputs": [],
   "source": [
    "iqr = q3-q1"
   ]
  },
  {
   "cell_type": "code",
   "execution_count": 14,
   "id": "ee87ffdc-e1b1-42b8-b622-e5cbcab19579",
   "metadata": {},
   "outputs": [],
   "source": [
    "u = q3 + 1.5*iqr\n",
    "l = q1 - 1.5*iqr"
   ]
  },
  {
   "cell_type": "code",
   "execution_count": 15,
   "id": "fd8ecc98-c05c-44bf-a856-e1ce514cdf6a",
   "metadata": {},
   "outputs": [],
   "source": [
    "out1 = y[y < l].values\n",
    "out2 = y[y > u].values"
   ]
  },
  {
   "cell_type": "code",
   "execution_count": 16,
   "id": "f8493aaf-a93a-4199-bf33-b689d32482ef",
   "metadata": {},
   "outputs": [],
   "source": [
    "y.replace(out1,l,inplace = True)\n",
    "y.replace(out2,u,inplace = True)"
   ]
  },
  {
   "cell_type": "code",
   "execution_count": 42,
   "id": "ea6d9302-10b4-4c51-971e-59ca281038d3",
   "metadata": {},
   "outputs": [],
   "source": [
    "x_train, x_test, y_train, y_test=train_test_split(x, y, random_state=0, train_size=0.4)"
   ]
  },
  {
   "cell_type": "code",
   "execution_count": 43,
   "id": "b00d7b88-fbef-406d-bea4-805e70733333",
   "metadata": {},
   "outputs": [],
   "source": [
    "rfc.fit(x_train,y_train)\n",
    "y_pred = rfc.predict(x_test)"
   ]
  },
  {
   "cell_type": "code",
   "execution_count": 44,
   "id": "d3193166-8e71-4b15-b6dc-af5250e86eb9",
   "metadata": {},
   "outputs": [
    {
     "name": "stdout",
     "output_type": "stream",
     "text": [
      "0.8349813202732974\n"
     ]
    }
   ],
   "source": [
    "print(r2_score(y_test,y_pred))"
   ]
  },
  {
   "cell_type": "code",
   "execution_count": 20,
   "id": "5ba9083b-534e-48db-87ce-edfce71e6c68",
   "metadata": {},
   "outputs": [],
   "source": [
    "pkl.dump(rfc, open('model.pkl','wb'))"
   ]
  }
 ],
 "metadata": {
  "kernelspec": {
   "display_name": "Python 3 (ipykernel)",
   "language": "python",
   "name": "python3"
  },
  "language_info": {
   "codemirror_mode": {
    "name": "ipython",
    "version": 3
   },
   "file_extension": ".py",
   "mimetype": "text/x-python",
   "name": "python",
   "nbconvert_exporter": "python",
   "pygments_lexer": "ipython3",
   "version": "3.12.4"
  }
 },
 "nbformat": 4,
 "nbformat_minor": 5
}
